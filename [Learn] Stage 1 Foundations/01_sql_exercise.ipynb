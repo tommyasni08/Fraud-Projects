{
 "cells": [
  {
   "cell_type": "code",
   "execution_count": 71,
   "id": "46937d5d",
   "metadata": {},
   "outputs": [
    {
     "data": {
      "text/plain": [
       "<duckdb.duckdb.DuckDBPyConnection at 0x14991a1f0>"
      ]
     },
     "execution_count": 71,
     "metadata": {},
     "output_type": "execute_result"
    }
   ],
   "source": [
    "import duckdb\n",
    "\n",
    "# Create an in-memory DuckDB connection\n",
    "con = duckdb.connect(database=':memory:')\n",
    "\n",
    "# Register logins.csv\n",
    "con.execute(\"\"\"\n",
    "    CREATE OR REPLACE TEMP VIEW logins AS\n",
    "    SELECT * FROM read_csv_auto('data/logins.csv')\n",
    "\"\"\")\n",
    "\n",
    "# Register transactions.csv\n",
    "con.execute(\"\"\"\n",
    "    CREATE OR REPLACE TEMP VIEW transactions AS\n",
    "    SELECT * FROM read_csv_auto('data/transactions.csv')\n",
    "\"\"\")\n",
    "\n",
    "# Register chargebacks.csv\n",
    "con.execute(\"\"\"\n",
    "    CREATE OR REPLACE TEMP VIEW chargebacks AS\n",
    "    SELECT * FROM read_csv_auto('data/chargebacks.csv')\n",
    "\"\"\")"
   ]
  },
  {
   "cell_type": "code",
   "execution_count": 73,
   "id": "a0adc32b",
   "metadata": {},
   "outputs": [],
   "source": [
    "import pandas as pd\n",
    "\n",
    "logins = pd.read_csv('data/logins.csv')\n",
    "chargebacks = pd.read_csv('data/chargebacks.csv')\n",
    "transactions = pd.read_csv('data/transactions.csv')\n"
   ]
  },
  {
   "cell_type": "code",
   "execution_count": 74,
   "id": "4e03659a",
   "metadata": {},
   "outputs": [
    {
     "data": {
      "text/html": [
       "<div>\n",
       "<style scoped>\n",
       "    .dataframe tbody tr th:only-of-type {\n",
       "        vertical-align: middle;\n",
       "    }\n",
       "\n",
       "    .dataframe tbody tr th {\n",
       "        vertical-align: top;\n",
       "    }\n",
       "\n",
       "    .dataframe thead th {\n",
       "        text-align: right;\n",
       "    }\n",
       "</style>\n",
       "<table border=\"1\" class=\"dataframe\">\n",
       "  <thead>\n",
       "    <tr style=\"text-align: right;\">\n",
       "      <th></th>\n",
       "      <th>user_id</th>\n",
       "      <th>timestamp</th>\n",
       "      <th>ip</th>\n",
       "      <th>device_id</th>\n",
       "      <th>outcome</th>\n",
       "    </tr>\n",
       "  </thead>\n",
       "  <tbody>\n",
       "    <tr>\n",
       "      <th>0</th>\n",
       "      <td>147</td>\n",
       "      <td>2024-01-17 10:18:25</td>\n",
       "      <td>192.168.177.150</td>\n",
       "      <td>device_28</td>\n",
       "      <td>success</td>\n",
       "    </tr>\n",
       "    <tr>\n",
       "      <th>1</th>\n",
       "      <td>126</td>\n",
       "      <td>2024-02-10 18:05:31</td>\n",
       "      <td>192.168.171.37</td>\n",
       "      <td>device_5</td>\n",
       "      <td>fail</td>\n",
       "    </tr>\n",
       "  </tbody>\n",
       "</table>\n",
       "</div>"
      ],
      "text/plain": [
       "   user_id            timestamp               ip  device_id  outcome\n",
       "0      147  2024-01-17 10:18:25  192.168.177.150  device_28  success\n",
       "1      126  2024-02-10 18:05:31   192.168.171.37   device_5     fail"
      ]
     },
     "execution_count": 74,
     "metadata": {},
     "output_type": "execute_result"
    }
   ],
   "source": [
    "logins.head(2)"
   ]
  },
  {
   "cell_type": "code",
   "execution_count": 75,
   "id": "38ff3ae1",
   "metadata": {},
   "outputs": [
    {
     "data": {
      "text/html": [
       "<div>\n",
       "<style scoped>\n",
       "    .dataframe tbody tr th:only-of-type {\n",
       "        vertical-align: middle;\n",
       "    }\n",
       "\n",
       "    .dataframe tbody tr th {\n",
       "        vertical-align: top;\n",
       "    }\n",
       "\n",
       "    .dataframe thead th {\n",
       "        text-align: right;\n",
       "    }\n",
       "</style>\n",
       "<table border=\"1\" class=\"dataframe\">\n",
       "  <thead>\n",
       "    <tr style=\"text-align: right;\">\n",
       "      <th></th>\n",
       "      <th>transaction_id</th>\n",
       "      <th>user_id</th>\n",
       "      <th>amount</th>\n",
       "      <th>days_after_purchase</th>\n",
       "    </tr>\n",
       "  </thead>\n",
       "  <tbody>\n",
       "    <tr>\n",
       "      <th>0</th>\n",
       "      <td>60</td>\n",
       "      <td>159</td>\n",
       "      <td>62.81</td>\n",
       "      <td>27</td>\n",
       "    </tr>\n",
       "    <tr>\n",
       "      <th>1</th>\n",
       "      <td>1242</td>\n",
       "      <td>183</td>\n",
       "      <td>40.96</td>\n",
       "      <td>7</td>\n",
       "    </tr>\n",
       "  </tbody>\n",
       "</table>\n",
       "</div>"
      ],
      "text/plain": [
       "   transaction_id  user_id  amount  days_after_purchase\n",
       "0              60      159   62.81                   27\n",
       "1            1242      183   40.96                    7"
      ]
     },
     "execution_count": 75,
     "metadata": {},
     "output_type": "execute_result"
    }
   ],
   "source": [
    "chargebacks.head(2)"
   ]
  },
  {
   "cell_type": "code",
   "execution_count": 76,
   "id": "5eb9c39d",
   "metadata": {},
   "outputs": [
    {
     "data": {
      "text/html": [
       "<div>\n",
       "<style scoped>\n",
       "    .dataframe tbody tr th:only-of-type {\n",
       "        vertical-align: middle;\n",
       "    }\n",
       "\n",
       "    .dataframe tbody tr th {\n",
       "        vertical-align: top;\n",
       "    }\n",
       "\n",
       "    .dataframe thead th {\n",
       "        text-align: right;\n",
       "    }\n",
       "</style>\n",
       "<table border=\"1\" class=\"dataframe\">\n",
       "  <thead>\n",
       "    <tr style=\"text-align: right;\">\n",
       "      <th></th>\n",
       "      <th>transaction_id</th>\n",
       "      <th>user_id</th>\n",
       "      <th>timestamp</th>\n",
       "      <th>amount</th>\n",
       "      <th>payment_method</th>\n",
       "      <th>is_fraud</th>\n",
       "    </tr>\n",
       "  </thead>\n",
       "  <tbody>\n",
       "    <tr>\n",
       "      <th>0</th>\n",
       "      <td>1</td>\n",
       "      <td>197</td>\n",
       "      <td>2024-01-31 04:02:59</td>\n",
       "      <td>100.75</td>\n",
       "      <td>card</td>\n",
       "      <td>0</td>\n",
       "    </tr>\n",
       "    <tr>\n",
       "      <th>1</th>\n",
       "      <td>2</td>\n",
       "      <td>198</td>\n",
       "      <td>2024-01-25 01:27:10</td>\n",
       "      <td>202.50</td>\n",
       "      <td>paypal</td>\n",
       "      <td>0</td>\n",
       "    </tr>\n",
       "  </tbody>\n",
       "</table>\n",
       "</div>"
      ],
      "text/plain": [
       "   transaction_id  user_id            timestamp  amount payment_method  \\\n",
       "0               1      197  2024-01-31 04:02:59  100.75           card   \n",
       "1               2      198  2024-01-25 01:27:10  202.50         paypal   \n",
       "\n",
       "   is_fraud  \n",
       "0         0  \n",
       "1         0  "
      ]
     },
     "execution_count": 76,
     "metadata": {},
     "output_type": "execute_result"
    }
   ],
   "source": [
    "transactions.head(2)"
   ]
  },
  {
   "cell_type": "markdown",
   "id": "ae2eb4eb",
   "metadata": {},
   "source": [
    "# Level 1 Basics"
   ]
  },
  {
   "cell_type": "code",
   "execution_count": 78,
   "id": "53b9c6a3",
   "metadata": {},
   "outputs": [
    {
     "name": "stdout",
     "output_type": "stream",
     "text": [
      "1. Total number of failed logins across all users: 207\n",
      "2. Top 5 users with the highest number of failed logins: [90, 37, 29, 148, 26]\n"
     ]
    },
    {
     "data": {
      "text/html": [
       "<div>\n",
       "<style scoped>\n",
       "    .dataframe tbody tr th:only-of-type {\n",
       "        vertical-align: middle;\n",
       "    }\n",
       "\n",
       "    .dataframe tbody tr th {\n",
       "        vertical-align: top;\n",
       "    }\n",
       "\n",
       "    .dataframe thead th {\n",
       "        text-align: right;\n",
       "    }\n",
       "</style>\n",
       "<table border=\"1\" class=\"dataframe\">\n",
       "  <thead>\n",
       "    <tr style=\"text-align: right;\">\n",
       "      <th></th>\n",
       "      <th>payment_method</th>\n",
       "      <th>total_transactions</th>\n",
       "      <th>total_fraud_transactions</th>\n",
       "      <th>fraud_rate_pct</th>\n",
       "    </tr>\n",
       "  </thead>\n",
       "  <tbody>\n",
       "    <tr>\n",
       "      <th>0</th>\n",
       "      <td>paypal</td>\n",
       "      <td>308</td>\n",
       "      <td>16.0</td>\n",
       "      <td>5.19</td>\n",
       "    </tr>\n",
       "    <tr>\n",
       "      <th>1</th>\n",
       "      <td>crypto</td>\n",
       "      <td>140</td>\n",
       "      <td>7.0</td>\n",
       "      <td>5.00</td>\n",
       "    </tr>\n",
       "    <tr>\n",
       "      <th>2</th>\n",
       "      <td>card</td>\n",
       "      <td>902</td>\n",
       "      <td>44.0</td>\n",
       "      <td>4.88</td>\n",
       "    </tr>\n",
       "    <tr>\n",
       "      <th>3</th>\n",
       "      <td>voucher</td>\n",
       "      <td>150</td>\n",
       "      <td>5.0</td>\n",
       "      <td>3.33</td>\n",
       "    </tr>\n",
       "  </tbody>\n",
       "</table>\n",
       "</div>"
      ],
      "text/plain": [
       "  payment_method  total_transactions  total_fraud_transactions  fraud_rate_pct\n",
       "0         paypal                 308                      16.0            5.19\n",
       "1         crypto                 140                       7.0            5.00\n",
       "2           card                 902                      44.0            4.88\n",
       "3        voucher                 150                       5.0            3.33"
      ]
     },
     "execution_count": 78,
     "metadata": {},
     "output_type": "execute_result"
    }
   ],
   "source": [
    "## 1. Count the total number of failed logins across all user\n",
    "sql_1 = duckdb.sql(\"\"\"\n",
    "    SELECT COUNT(*)\n",
    "    FROM logins\n",
    "    WHERE outcome = 'fail'\n",
    "\"\"\").df()\n",
    "print('1. Total number of failed logins across all users: '+ str(sql_1['count_star()'][0]))\n",
    "\n",
    "## 2. Find the top 5 users with the highest number of failed logins\n",
    "sql_2 = duckdb.sql(\"\"\"\n",
    "    SELECT\n",
    "        user_id,\n",
    "        COUNT(*) AS failed_login_count\n",
    "    FROM logins\n",
    "    WHERE outcome = 'fail'\n",
    "    GROUP BY user_id\n",
    "    ORDER BY failed_login_count DESC\n",
    "    LIMIT 5;\n",
    "\"\"\").df()\n",
    "print('2. Top 5 users with the highest number of failed logins: '+ str(sql_2['user_id'].to_list()))\n",
    "\n",
    "## 3. For each payment method, compute the total number of transactions and fraud rate\n",
    "\n",
    "sql_3 = duckdb.sql(\"\"\"\n",
    "    SELECT\n",
    "        payment_method,\n",
    "        COUNT(*)                                            AS total_transactions,\n",
    "        SUM(is_fraud)                                      AS total_fraud_transactions,\n",
    "        ROUND(100.0 * SUM(is_fraud)::DOUBLE / COUNT(*), 2) AS fraud_rate_pct\n",
    "    FROM transactions\n",
    "    GROUP BY payment_method\n",
    "    ORDER BY fraud_rate_pct DESC;\n",
    "\"\"\").df()\n",
    "sql_3"
   ]
  },
  {
   "cell_type": "markdown",
   "id": "e69d7d6f",
   "metadata": {},
   "source": [
    "# Level 2: Pattern Detection"
   ]
  },
  {
   "cell_type": "code",
   "execution_count": null,
   "id": "4ef60169",
   "metadata": {},
   "outputs": [],
   "source": [
    "## 4. Identify users with more than 5 failed logins within any single hour.\n",
    "sql_4 = duckdb.sql(\"\"\"\n",
    "    SELECT \n",
    "        user_id, \n",
    "        DATE_TRUNC('hour', CAST(timestamp AS TIMESTAMP)) as ts_hour,\n",
    "        COUNT(*) as failed_login_count\n",
    "    FROM logins\n",
    "    WHERE outcome = 'fail'\n",
    "    GROUP BY user_id, ts_hour\n",
    "    HAVING COUNT(*) > 5\n",
    "    ORDER BY failed_login_count DESC\n",
    "\"\"\").df()\n",
    "\n",
    "## 5. Calculate the weekly fraud rate (fraudulent transactions ÷ total transactions).\n",
    "sql_5 = duckdb.sql(\"\"\"\n",
    "    SELECT \n",
    "        DATE_TRUNC('week', CAST(timestamp AS TIMESTAMP)) as ts_week,\n",
    "        COUNT(*) as total_weekly_transactions,\n",
    "        SUM(is_fraud) as total_weekly_fraud_transactions,\n",
    "        ROUND(100.0 * SUM(is_fraud)::DOUBLE / COUNT(*), 2) as weekly_fraud_rate_pct\n",
    "    FROM transactions\n",
    "    GROUP BY ts_week\n",
    "    ORDER BY ts_week ASC\n",
    "\"\"\").df()\n",
    "\n",
    "## 6. List the top 10 users by total transaction amount, and mark how many were fraud.\n",
    "sql_6 = duckdb.sql(\"\"\"\n",
    "    SELECT \n",
    "        user_id,\n",
    "        COUNT(*) as total_transactions,\n",
    "        SUM(amount) as total_amount,\n",
    "        SUM(is_fraud) as total_fraud_transactions,\n",
    "        SUM(CASE\n",
    "            WHEN is_fraud = 1 THEN amount\n",
    "            ELSE 0 \n",
    "            END\n",
    "        ) as total_fraud_amount,\n",
    "        ROUND(100.0 * SUM(is_fraud)::DOUBLE / NULLIF(COUNT(*),0), 2) AS fraud_tx_share_pct\n",
    "    FROM transactions\n",
    "    GROUP BY user_id\n",
    "    ORDER BY total_amount DESC\n",
    "    LIMIT 10;\n",
    "\"\"\").df()\n",
    "\n",
    "# sql_4\n",
    "# sql_5\n",
    "# sql_6"
   ]
  },
  {
   "cell_type": "markdown",
   "id": "1f6ceb86",
   "metadata": {},
   "source": [
    "# Level 3 Deeper Fraud Insights"
   ]
  },
  {
   "cell_type": "code",
   "execution_count": 129,
   "id": "0458b4e5",
   "metadata": {},
   "outputs": [
    {
     "data": {
      "text/html": [
       "<div>\n",
       "<style scoped>\n",
       "    .dataframe tbody tr th:only-of-type {\n",
       "        vertical-align: middle;\n",
       "    }\n",
       "\n",
       "    .dataframe tbody tr th {\n",
       "        vertical-align: top;\n",
       "    }\n",
       "\n",
       "    .dataframe thead th {\n",
       "        text-align: right;\n",
       "    }\n",
       "</style>\n",
       "<table border=\"1\" class=\"dataframe\">\n",
       "  <thead>\n",
       "    <tr style=\"text-align: right;\">\n",
       "      <th></th>\n",
       "      <th>days_after_purchase_bucket</th>\n",
       "      <th>chargeback_count</th>\n",
       "      <th>average_chargeback_by_days_bucket</th>\n",
       "    </tr>\n",
       "  </thead>\n",
       "  <tbody>\n",
       "    <tr>\n",
       "      <th>0</th>\n",
       "      <td>0-10 days</td>\n",
       "      <td>7</td>\n",
       "      <td>36.06</td>\n",
       "    </tr>\n",
       "    <tr>\n",
       "      <th>1</th>\n",
       "      <td>11-30 days</td>\n",
       "      <td>14</td>\n",
       "      <td>41.59</td>\n",
       "    </tr>\n",
       "    <tr>\n",
       "      <th>2</th>\n",
       "      <td>31-60 days</td>\n",
       "      <td>15</td>\n",
       "      <td>58.76</td>\n",
       "    </tr>\n",
       "  </tbody>\n",
       "</table>\n",
       "</div>"
      ],
      "text/plain": [
       "  days_after_purchase_bucket  chargeback_count  \\\n",
       "0                  0-10 days                 7   \n",
       "1                 11-30 days                14   \n",
       "2                 31-60 days                15   \n",
       "\n",
       "   average_chargeback_by_days_bucket  \n",
       "0                              36.06  \n",
       "1                              41.59  \n",
       "2                              58.76  "
      ]
     },
     "execution_count": 129,
     "metadata": {},
     "output_type": "execute_result"
    }
   ],
   "source": [
    "## 7. Find users who had fraudulent transactions AND chargebacks.\n",
    "sql_7 = duckdb.sql(\"\"\"\n",
    "    SELECT \n",
    "        user_id\n",
    "    FROM chargebacks\n",
    "    WHERE user_id in (SELECT DISTINCT (user_id) as user_id\n",
    "        FROM transactions\n",
    "        WHERE is_fraud = 1\n",
    "    )\n",
    "\"\"\").df()\n",
    "\n",
    "## 8. Detect suspicious login behavior: users who logged in from more than 3 distinct IPs within the same day.\n",
    "sql_8 = duckdb.sql(\"\"\"\n",
    "    SELECT \n",
    "        user_id,\n",
    "        DATE_TRUNC('day', CAST(timestamp AS TIMESTAMP)) as ts_day,\n",
    "        COUNT(DISTINCT ip) as unique_ip_count_per_day\n",
    "    FROM logins\n",
    "    GROUP BY user_id, ts_day\n",
    "    HAVING COUNT(DISTINCT ip) > 3\n",
    "    ORDER BY unique_ip_count_per_day DESC;\n",
    "\"\"\").df()\n",
    "\n",
    "## 9. Calculate the average chargeback amount by days_after_purchase bucket: 0–10 days, 11–30 days, 31–60 days.\n",
    "sql_9 = duckdb.sql(\"\"\"\n",
    "    SELECT \n",
    "        CASE \n",
    "            WHEN days_after_purchase BETWEEN 0 AND 10 THEN '0-10 days'\n",
    "            WHEN days_after_purchase BETWEEN 11 AND 30 THEN '11-30 days'\n",
    "            WHEN days_after_purchase BETWEEN 31 AND 60 THEN '31-60 days'\n",
    "            ELSE '> 60 days'\n",
    "        END as days_after_purchase_bucket,\n",
    "        COUNT(*) as chargeback_count,\n",
    "        ROUND(AVG(amount),2) as average_chargeback_by_days_bucket\n",
    "    FROM chargebacks\n",
    "    GROUP BY days_after_purchase_bucket\n",
    "\"\"\").df()\n",
    "sql_9"
   ]
  },
  {
   "cell_type": "code",
   "execution_count": 130,
   "id": "1b29924d",
   "metadata": {},
   "outputs": [
    {
     "data": {
      "text/plain": [
       "<duckdb.duckdb.DuckDBPyConnection at 0x14991a1f0>"
      ]
     },
     "execution_count": 130,
     "metadata": {},
     "output_type": "execute_result"
    }
   ],
   "source": [
    "con.execute(\"DROP VIEW IF EXISTS logins\")"
   ]
  },
  {
   "cell_type": "code",
   "execution_count": null,
   "id": "24643088",
   "metadata": {},
   "outputs": [],
   "source": []
  }
 ],
 "metadata": {
  "kernelspec": {
   "display_name": "tasni_venv",
   "language": "python",
   "name": "python3"
  },
  "language_info": {
   "codemirror_mode": {
    "name": "ipython",
    "version": 3
   },
   "file_extension": ".py",
   "mimetype": "text/x-python",
   "name": "python",
   "nbconvert_exporter": "python",
   "pygments_lexer": "ipython3",
   "version": "3.13.7"
  }
 },
 "nbformat": 4,
 "nbformat_minor": 5
}
