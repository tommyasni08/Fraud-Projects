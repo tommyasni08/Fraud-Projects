{
 "cells": [
  {
   "cell_type": "code",
   "execution_count": 22,
   "id": "42d7d43a",
   "metadata": {},
   "outputs": [],
   "source": [
    "# Import Libraries and Constant \n",
    "import numpy as np\n",
    "import pandas as pd\n",
    "from sklearn.model_selection import train_test_split\n",
    "from sklearn.preprocessing import StandardScaler\n",
    "from sklearn.metrics import roc_auc_score, average_precision_score, precision_recall_fscore_support\n",
    "\n",
    "RANDOM_STATE = 42"
   ]
  },
  {
   "cell_type": "code",
   "execution_count": 17,
   "id": "16f56a37",
   "metadata": {},
   "outputs": [],
   "source": [
    "# Load Data\n",
    "df = pd.read_csv('./data/creditcard.csv')\n",
    "df['Class']  = df['Class'].astype('int8')\n",
    "df['Amount'] = pd.to_numeric(df['Amount'], errors='coerce')\n",
    "df['Time']   = pd.to_numeric(df['Time'], errors='coerce')"
   ]
  },
  {
   "cell_type": "code",
   "execution_count": 18,
   "id": "f0bb62fa",
   "metadata": {},
   "outputs": [
    {
     "name": "stdout",
     "output_type": "stream",
     "text": [
      "(284807, 31)\n",
      "Time    float64\n",
      "V1      float64\n",
      "V2      float64\n",
      "V3      float64\n",
      "V4      float64\n",
      "dtype: object\n",
      "Class\n",
      "0    284315\n",
      "1       492\n",
      "Name: count, dtype: int64 Class\n",
      "0    0.998273\n",
      "1    0.001727\n",
      "Name: proportion, dtype: float64\n",
      "                Time         Amount\n",
      "count  284807.000000  284807.000000\n",
      "mean    94813.859575      88.349619\n",
      "std     47488.145955     250.120109\n",
      "min         0.000000       0.000000\n",
      "50%     84692.000000      22.000000\n",
      "90%    157640.400000     203.000000\n",
      "99%    170560.940000    1017.970000\n",
      "max    172792.000000   25691.160000\n"
     ]
    }
   ],
   "source": [
    "# Basic sanity\n",
    "print(df.shape); print(df.dtypes.head())\n",
    "print(df['Class'].value_counts(), df['Class'].value_counts(normalize=True))\n",
    "print(df[['Time','Amount']].describe(percentiles=[.5,.9,.99]))"
   ]
  },
  {
   "cell_type": "code",
   "execution_count": 19,
   "id": "d6a008ff",
   "metadata": {},
   "outputs": [],
   "source": [
    "# Train/test split (stratified)\n",
    "X = df[['Amount','Time']].copy()\n",
    "y = df['Class']\n",
    "X_train, X_test, y_train, y_test = train_test_split(X, y, stratify=y, test_size=0.2 , random_state=RANDOM_STATE)"
   ]
  },
  {
   "cell_type": "code",
   "execution_count": 21,
   "id": "151b3769",
   "metadata": {},
   "outputs": [],
   "source": [
    "# Scaling\n",
    "scaler = StandardScaler()\n",
    "X_train_scaled = scaler.fit_transform(X_train)  # fit on train\n",
    "X_test_scaled  = scaler.transform(X_test)"
   ]
  },
  {
   "cell_type": "code",
   "execution_count": 26,
   "id": "7b4d1e26",
   "metadata": {},
   "outputs": [
    {
     "name": "stdout",
     "output_type": "stream",
     "text": [
      "ROC-AUC: 0.5\n",
      "PR-AUC : 0.0017204452090867595\n",
      "Precision/Recall/F1: 0.0 0.0 0.0\n"
     ]
    }
   ],
   "source": [
    "# Naive Baseline\n",
    "y_pred_proba_zero = np.zeros(len(y_test))\n",
    "print(\"ROC-AUC:\", roc_auc_score(y_test, y_pred_proba_zero))         # expect 0.5 or error; handle safely\n",
    "print(\"PR-AUC :\", average_precision_score(y_test, y_pred_proba_zero)) # equals positive class prevalence\n",
    "prec, rec, f1, _ = precision_recall_fscore_support(y_test, y_pred_proba_zero, average='binary', zero_division=0)\n",
    "print(\"Precision/Recall/F1:\", prec, rec, f1)"
   ]
  },
  {
   "cell_type": "code",
   "execution_count": null,
   "id": "a11a5c30",
   "metadata": {},
   "outputs": [],
   "source": []
  }
 ],
 "metadata": {
  "kernelspec": {
   "display_name": "3.11_tasni_venv",
   "language": "python",
   "name": "python3"
  },
  "language_info": {
   "codemirror_mode": {
    "name": "ipython",
    "version": 3
   },
   "file_extension": ".py",
   "mimetype": "text/x-python",
   "name": "python",
   "nbconvert_exporter": "python",
   "pygments_lexer": "ipython3",
   "version": "3.11.13"
  }
 },
 "nbformat": 4,
 "nbformat_minor": 5
}
